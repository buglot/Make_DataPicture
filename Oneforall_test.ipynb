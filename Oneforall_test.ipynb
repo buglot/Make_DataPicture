{
 "cells": [
  {
   "cell_type": "code",
   "execution_count": 5,
   "metadata": {},
   "outputs": [],
   "source": [
    "from MakeData.OneForAll import OneForAll\n",
    "import cv2\n",
    "from matplotlib import pyplot as plt"
   ]
  },
  {
   "cell_type": "code",
   "execution_count": 6,
   "metadata": {},
   "outputs": [],
   "source": [
    "me=OneForAll('pic')"
   ]
  },
  {
   "cell_type": "code",
   "execution_count": 7,
   "metadata": {},
   "outputs": [],
   "source": [
    "def showw(x):\n",
    "    plt.imshow(x.reshape(50,50),cmap=plt.get_cmap('Blues'))\n",
    "    plt.show()\n",
    "def pri(d,topre,result):\n",
    "    print(f'Ture: {result}')\n",
    "    print(f'Pc guess:',d.predict([topre])[0])"
   ]
  },
  {
   "cell_type": "code",
   "execution_count": 8,
   "metadata": {},
   "outputs": [
    {
     "name": "stdout",
     "output_type": "stream",
     "text": [
      "Ture: 2\n",
      "Pc guess: 1\n"
     ]
    },
    {
     "data": {
      "image/png": "[encoded data removed]",
      "text/plain": [
       "<Figure size 432x288 with 1 Axes>"
      ]
     },
     "metadata": {
      "needs_background": "light"
     },
     "output_type": "display_data"
    }
   ],
   "source": [
    "a8=\"2.2.png\"\n",
    "a=cv2.imread(a8,0)\n",
    "a=cv2.resize(a,(50,50),interpolation=cv2.INTER_CUBIC)\n",
    "#a.flatten()\n",
    "g=4206\n",
    "'''\n",
    "pri(Model1,test[g],result[g])\n",
    "showw(test[g])\n",
    "'''\n",
    "pri(me.ModeloneForall,a.flatten(),\"2\")\n",
    "showw(a.flatten())"
   ]
  }
 ],
 "metadata": {
  "interpreter": {
   "hash": "745989c9fc211c48e814428eef85795a069a7f8a0e013f32fec42170c2a96314"
  },
  "kernelspec": {
   "display_name": "Python 3.10.1 64-bit",
   "language": "python",
   "name": "python3"
  },
  "language_info": {
   "codemirror_mode": {
    "name": "ipython",
    "version": 3
   },
   "file_extension": ".py",
   "mimetype": "text/x-python",
   "name": "python",
   "nbconvert_exporter": "python",
   "pygments_lexer": "ipython3",
   "version": "3.10.1"
  },
  "orig_nbformat": 4
 },
 "nbformat": 4,
 "nbformat_minor": 2
}
